{
 "cells": [
  {
   "cell_type": "code",
   "id": "cb39cd80-8839-4cb0-8eba-23f2b1462595",
   "metadata": {
    "ExecuteTime": {
     "end_time": "2025-04-22T16:28:29.597010Z",
     "start_time": "2025-04-22T16:28:24.680209Z"
    }
   },
   "source": [
    "%pip install openai-whisper==20230918 -q\n",
    "%pip install torchaudio==2.1.0 -q\n",
    "%pip install datasets==2.16.1 -q\n",
    "%pip install sagemaker==2.184.0  -q\n",
    "%pip install librosa -q\n",
    "%pip install soundfile -q"
   ],
   "outputs": [
    {
     "name": "stdout",
     "output_type": "stream",
     "text": [
      "  \u001B[1;31merror\u001B[0m: \u001B[1msubprocess-exited-with-error\u001B[0m\r\n",
      "  \r\n",
      "  \u001B[31m×\u001B[0m \u001B[32mBuilding wheel for tiktoken \u001B[0m\u001B[1;32m(\u001B[0m\u001B[32mpyproject.toml\u001B[0m\u001B[1;32m)\u001B[0m did not run successfully.\r\n",
      "  \u001B[31m│\u001B[0m exit code: \u001B[1;36m1\u001B[0m\r\n",
      "  \u001B[31m╰─>\u001B[0m \u001B[31m[49 lines of output]\u001B[0m\r\n",
      "  \u001B[31m   \u001B[0m /private/var/folders/vw/_k6w_xh97_xb3bkd57dznybm0000gn/T/pip-build-env-7lhuv7cn/overlay/lib/python3.12/site-packages/setuptools/config/_apply_pyprojecttoml.py:82: SetuptoolsDeprecationWarning: `project.license` as a TOML table is deprecated\r\n",
      "  \u001B[31m   \u001B[0m !!\r\n",
      "  \u001B[31m   \u001B[0m \r\n",
      "  \u001B[31m   \u001B[0m         ********************************************************************************\r\n",
      "  \u001B[31m   \u001B[0m         Please use a simple string containing a SPDX expression for `project.license`. You can also use `project.license-files`. (Both options available on setuptools>=77.0.0).\r\n",
      "  \u001B[31m   \u001B[0m \r\n",
      "  \u001B[31m   \u001B[0m         By 2026-Feb-18, you need to update your project and remove deprecated calls\r\n",
      "  \u001B[31m   \u001B[0m         or your builds will no longer be supported.\r\n",
      "  \u001B[31m   \u001B[0m \r\n",
      "  \u001B[31m   \u001B[0m         See https://packaging.python.org/en/latest/guides/writing-pyproject-toml/#license for details.\r\n",
      "  \u001B[31m   \u001B[0m         ********************************************************************************\r\n",
      "  \u001B[31m   \u001B[0m \r\n",
      "  \u001B[31m   \u001B[0m !!\r\n",
      "  \u001B[31m   \u001B[0m   corresp(dist, value, root_dir)\r\n",
      "  \u001B[31m   \u001B[0m running bdist_wheel\r\n",
      "  \u001B[31m   \u001B[0m running build\r\n",
      "  \u001B[31m   \u001B[0m running build_py\r\n",
      "  \u001B[31m   \u001B[0m creating build/lib.macosx-11.1-arm64-cpython-312/tiktoken\r\n",
      "  \u001B[31m   \u001B[0m copying tiktoken/registry.py -> build/lib.macosx-11.1-arm64-cpython-312/tiktoken\r\n",
      "  \u001B[31m   \u001B[0m copying tiktoken/__init__.py -> build/lib.macosx-11.1-arm64-cpython-312/tiktoken\r\n",
      "  \u001B[31m   \u001B[0m copying tiktoken/core.py -> build/lib.macosx-11.1-arm64-cpython-312/tiktoken\r\n",
      "  \u001B[31m   \u001B[0m copying tiktoken/model.py -> build/lib.macosx-11.1-arm64-cpython-312/tiktoken\r\n",
      "  \u001B[31m   \u001B[0m copying tiktoken/load.py -> build/lib.macosx-11.1-arm64-cpython-312/tiktoken\r\n",
      "  \u001B[31m   \u001B[0m creating build/lib.macosx-11.1-arm64-cpython-312/tiktoken_ext\r\n",
      "  \u001B[31m   \u001B[0m copying tiktoken_ext/openai_public.py -> build/lib.macosx-11.1-arm64-cpython-312/tiktoken_ext\r\n",
      "  \u001B[31m   \u001B[0m running egg_info\r\n",
      "  \u001B[31m   \u001B[0m writing tiktoken.egg-info/PKG-INFO\r\n",
      "  \u001B[31m   \u001B[0m writing dependency_links to tiktoken.egg-info/dependency_links.txt\r\n",
      "  \u001B[31m   \u001B[0m writing requirements to tiktoken.egg-info/requires.txt\r\n",
      "  \u001B[31m   \u001B[0m writing top-level names to tiktoken.egg-info/top_level.txt\r\n",
      "  \u001B[31m   \u001B[0m reading manifest file 'tiktoken.egg-info/SOURCES.txt'\r\n",
      "  \u001B[31m   \u001B[0m reading manifest template 'MANIFEST.in'\r\n",
      "  \u001B[31m   \u001B[0m warning: no files found matching 'Makefile'\r\n",
      "  \u001B[31m   \u001B[0m adding license file 'LICENSE'\r\n",
      "  \u001B[31m   \u001B[0m writing manifest file 'tiktoken.egg-info/SOURCES.txt'\r\n",
      "  \u001B[31m   \u001B[0m copying tiktoken/py.typed -> build/lib.macosx-11.1-arm64-cpython-312/tiktoken\r\n",
      "  \u001B[31m   \u001B[0m running build_ext\r\n",
      "  \u001B[31m   \u001B[0m running build_rust\r\n",
      "  \u001B[31m   \u001B[0m error: can't find Rust compiler\r\n",
      "  \u001B[31m   \u001B[0m \r\n",
      "  \u001B[31m   \u001B[0m If you are using an outdated pip version, it is possible a prebuilt wheel is available for this package but pip is not able to install from it. Installing from the wheel would avoid the need for a Rust compiler.\r\n",
      "  \u001B[31m   \u001B[0m \r\n",
      "  \u001B[31m   \u001B[0m To update pip, run:\r\n",
      "  \u001B[31m   \u001B[0m \r\n",
      "  \u001B[31m   \u001B[0m     pip install --upgrade pip\r\n",
      "  \u001B[31m   \u001B[0m \r\n",
      "  \u001B[31m   \u001B[0m and then retry package installation.\r\n",
      "  \u001B[31m   \u001B[0m \r\n",
      "  \u001B[31m   \u001B[0m If you did intend to build this package from source, try installing a Rust compiler from your system package manager and ensure it is on the PATH during installation. Alternatively, rustup (available at https://rustup.rs) is the recommended way to download and update the Rust compiler toolchain.\r\n",
      "  \u001B[31m   \u001B[0m \u001B[31m[end of output]\u001B[0m\r\n",
      "  \r\n",
      "  \u001B[1;35mnote\u001B[0m: This error originates from a subprocess, and is likely not a problem with pip.\r\n",
      "\u001B[31m  ERROR: Failed building wheel for tiktoken\u001B[0m\u001B[31m\r\n",
      "\u001B[0m\u001B[31mERROR: ERROR: Failed to build installable wheels for some pyproject.toml based projects (tiktoken)\u001B[0m\u001B[31m\r\n",
      "\u001B[0mNote: you may need to restart the kernel to use updated packages.\n",
      "\u001B[31mERROR: Could not find a version that satisfies the requirement torchaudio==2.1.0 (from versions: 2.2.0, 2.2.1, 2.2.2, 2.3.0, 2.3.1, 2.4.0, 2.4.1, 2.5.0, 2.5.1, 2.6.0)\u001B[0m\u001B[31m\r\n",
      "\u001B[0m\u001B[31mERROR: No matching distribution found for torchaudio==2.1.0\u001B[0m\u001B[31m\r\n",
      "\u001B[0mNote: you may need to restart the kernel to use updated packages.\n",
      "\u001B[31mERROR: pip's dependency resolver does not currently take into account all the packages that are installed. This behaviour is the source of the following dependency conflicts.\r\n",
      "pathos 0.3.2 requires dill>=0.3.8, but you have dill 0.3.7 which is incompatible.\r\n",
      "pathos 0.3.2 requires multiprocess>=0.70.16, but you have multiprocess 0.70.15 which is incompatible.\u001B[0m\u001B[31m\r\n",
      "\u001B[0mNote: you may need to restart the kernel to use updated packages.\n",
      "\u001B[31mERROR: pip's dependency resolver does not currently take into account all the packages that are installed. This behaviour is the source of the following dependency conflicts.\r\n",
      "datasets 2.16.1 requires dill<0.3.8,>=0.3.0, but you have dill 0.4.0 which is incompatible.\u001B[0m\u001B[31m\r\n",
      "\u001B[0mNote: you may need to restart the kernel to use updated packages.\n",
      "Note: you may need to restart the kernel to use updated packages.\n",
      "Note: you may need to restart the kernel to use updated packages.\n"
     ]
    }
   ],
   "execution_count": 1
  },
  {
   "metadata": {
    "ExecuteTime": {
     "end_time": "2025-04-22T16:28:31.550270Z",
     "start_time": "2025-04-22T16:28:31.430908Z"
    }
   },
   "cell_type": "code",
   "source": "!export AWS_DEFAULT_REGION=us-east-1",
   "id": "2cd1ea3ad5925c45",
   "outputs": [],
   "execution_count": 2
  },
  {
   "cell_type": "code",
   "id": "d7e950f4-44a8-41b4-9241-9c9ed87ef0c9",
   "metadata": {
    "ExecuteTime": {
     "end_time": "2025-04-22T16:28:34.687508Z",
     "start_time": "2025-04-22T16:28:32.540983Z"
    }
   },
   "source": [
    "import json\n",
    "import torch\n",
    "import whisper\n",
    "import torchaudio\n",
    "import sagemaker\n",
    "import time\n",
    "import json\n",
    "import boto3\n",
    "import soundfile as sf\n",
    "from datasets import load_dataset\n",
    "from sagemaker.pytorch.model import PyTorchModel\n",
    "from sagemaker.serializers import DataSerializer\n",
    "from sagemaker.deserializers import JSONDeserializer"
   ],
   "outputs": [
    {
     "name": "stdout",
     "output_type": "stream",
     "text": [
      "sagemaker.config INFO - Not applying SDK defaults from location: /Library/Application Support/sagemaker/config.yaml\n",
      "sagemaker.config INFO - Not applying SDK defaults from location: /Users/samuelturner/Library/Application Support/sagemaker/config.yaml\n"
     ]
    }
   ],
   "execution_count": 3
  },
  {
   "cell_type": "code",
   "id": "c031d846-ab8a-46df-bb40-e7a85e5dd1d8",
   "metadata": {
    "ExecuteTime": {
     "end_time": "2025-04-22T16:28:35.489288Z",
     "start_time": "2025-04-22T16:28:35.341166Z"
    }
   },
   "source": [
    "boto_session = boto3.Session(region_name='us-east-1')\n",
    "sess = sagemaker.Session(boto_session=boto_session)\n",
    "bucket = 'whisper-bucket-unilex-new'\n",
    "prefix = 'whisper_blog_post'\n",
    "role = \"arn:aws:iam::307946674662:role/service-role/AmazonSageMaker-ExecutionRole-20250306T120165\"\n",
    "#\n",
    "# sm_runtime = boto3.client(\"sagemaker-runtime\")"
   ],
   "outputs": [
    {
     "name": "stdout",
     "output_type": "stream",
     "text": [
      "sagemaker.config INFO - Not applying SDK defaults from location: /Library/Application Support/sagemaker/config.yaml\n",
      "sagemaker.config INFO - Not applying SDK defaults from location: /Users/samuelturner/Library/Application Support/sagemaker/config.yaml\n"
     ]
    }
   ],
   "execution_count": 4
  },
  {
   "cell_type": "code",
   "id": "9da3290b-f004-4d39-926b-770e79e4866b",
   "metadata": {
    "ExecuteTime": {
     "end_time": "2025-04-22T16:28:38.000663Z",
     "start_time": "2025-04-22T16:28:37.191860Z"
    }
   },
   "source": [
    "model = whisper.load_model(\"base\")\n",
    "torch.save(\n",
    "    {\n",
    "        'model_state_dict': model.state_dict(),\n",
    "        'dims': model.dims.__dict__,\n",
    "    },\n",
    "    'base.pt'\n",
    ")"
   ],
   "outputs": [],
   "execution_count": 5
  },
  {
   "cell_type": "code",
   "id": "bea4ff68-ad6e-4a5e-9fc4-9f9271493e24",
   "metadata": {
    "ExecuteTime": {
     "end_time": "2025-04-22T16:29:05.253549Z",
     "start_time": "2025-04-22T16:28:38.757234Z"
    }
   },
   "source": [
    "!mkdir -p model\n",
    "!mv base.pt model\n",
    "!tar cvzf model.tar.gz -C model/ ."
   ],
   "outputs": [
    {
     "name": "stdout",
     "output_type": "stream",
     "text": [
      "a .\r\n",
      "a ./base.pt\r\n"
     ]
    }
   ],
   "execution_count": 6
  },
  {
   "cell_type": "code",
   "id": "dc7f0707-4f38-4042-b47a-8eebec6b8d44",
   "metadata": {
    "ExecuteTime": {
     "end_time": "2025-04-22T16:29:29.561517Z",
     "start_time": "2025-04-22T16:29:12.731328Z"
    }
   },
   "source": [
    "model_uri = sess.upload_data('model.tar.gz', bucket=bucket, key_prefix=f\"{prefix}/pytorch/model\")\n",
    "!rm model.tar.gz\n",
    "!rm -rf model\n",
    "model_uri"
   ],
   "outputs": [
    {
     "data": {
      "text/plain": [
       "'s3://whisper-bucket-unilex-new/whisper_blog_post/pytorch/model/model.tar.gz'"
      ]
     },
     "execution_count": 7,
     "metadata": {},
     "output_type": "execute_result"
    }
   ],
   "execution_count": 7
  },
  {
   "cell_type": "code",
   "id": "21f3ee11-3b53-41d7-8da2-4a2a06ab93ea",
   "metadata": {
    "ExecuteTime": {
     "end_time": "2025-04-22T16:29:42.122645Z",
     "start_time": "2025-04-22T16:29:42.120426Z"
    }
   },
   "source": [
    "id = int(time.time())\n",
    "model_name = f'whisper-pytorch-model-{id}'\n",
    "\n",
    "image = \"763104351884.dkr.ecr.us-east-1.amazonaws.com/huggingface-pytorch-inference:2.0.0-transformers4.28.1-gpu-py310-cu118-ubuntu20.04\""
   ],
   "outputs": [],
   "execution_count": 8
  },
  {
   "cell_type": "code",
   "id": "05ae41a8-b8ad-45b9-8277-358f36606c9e",
   "metadata": {
    "ExecuteTime": {
     "end_time": "2025-04-22T16:29:43.409257Z",
     "start_time": "2025-04-22T16:29:43.405956Z"
    }
   },
   "source": [
    "whisper_pytorch_model = PyTorchModel(\n",
    "    model_data=model_uri,\n",
    "    image_uri=image,\n",
    "    role=role,\n",
    "    entry_point=\"inference.py\",\n",
    "    source_dir='code',\n",
    "    name=model_name,\n",
    "    env={\n",
    "        'MMS_MAX_REQUEST_SIZE': '2000000000',\n",
    "        'MMS_MAX_RESPONSE_SIZE': '2000000000',\n",
    "        'MMS_DEFAULT_RESPONSE_TIMEOUT': '900'\n",
    "    }\n",
    ")"
   ],
   "outputs": [
    {
     "name": "stdout",
     "output_type": "stream",
     "text": [
      "sagemaker.config INFO - Not applying SDK defaults from location: /Library/Application Support/sagemaker/config.yaml\n",
      "sagemaker.config INFO - Not applying SDK defaults from location: /Users/samuelturner/Library/Application Support/sagemaker/config.yaml\n"
     ]
    }
   ],
   "execution_count": 9
  },
  {
   "cell_type": "code",
   "id": "78942c61-677b-452d-9a05-93d9cd88519d",
   "metadata": {
    "ExecuteTime": {
     "end_time": "2025-04-22T16:29:45.577797Z",
     "start_time": "2025-04-22T16:29:45.575328Z"
    }
   },
   "source": [
    "audio_serializer = DataSerializer(content_type=\"audio/x-audio\")\n",
    "deserializer = JSONDeserializer()"
   ],
   "outputs": [],
   "execution_count": 10
  },
  {
   "cell_type": "code",
   "id": "693ff016-9634-4838-aaf6-36d0bd131c9b",
   "metadata": {
    "ExecuteTime": {
     "end_time": "2025-04-22T16:40:57.964125Z",
     "start_time": "2025-04-22T16:36:08.238836Z"
    }
   },
   "source": [
    "%%time\n",
    "endpoint_name = f'whisper-pytorch-real-time-endpoint1'\n",
    "\n",
    "real_time_predictor = whisper_pytorch_model.deploy(\n",
    "    initial_instance_count=1,\n",
    "    instance_type=\"ml.g4dn.xlarge\",\n",
    "    endpoint_name = endpoint_name,\n",
    "    serializer=audio_serializer,\n",
    "    entry_point=\"inference.py\",\n",
    "    deserializer = deserializer\n",
    ")"
   ],
   "outputs": [
    {
     "name": "stdout",
     "output_type": "stream",
     "text": [
      "------"
     ]
    },
    {
     "ename": "KeyboardInterrupt",
     "evalue": "",
     "output_type": "error",
     "traceback": [
      "\u001B[0;31m---------------------------------------------------------------------------\u001B[0m",
      "\u001B[0;31mKeyboardInterrupt\u001B[0m                         Traceback (most recent call last)",
      "File \u001B[0;32m<timed exec>:3\u001B[0m\n",
      "File \u001B[0;32m~/miniconda3/lib/python3.12/site-packages/sagemaker/model.py:1430\u001B[0m, in \u001B[0;36mModel.deploy\u001B[0;34m(self, initial_instance_count, instance_type, serializer, deserializer, accelerator_type, endpoint_name, tags, kms_key, wait, data_capture_config, async_inference_config, serverless_inference_config, volume_size, model_data_download_timeout, container_startup_health_check_timeout, inference_recommendation_id, explainer_config, **kwargs)\u001B[0m\n\u001B[1;32m   1427\u001B[0m \u001B[38;5;28;01mif\u001B[39;00m is_explainer_enabled:\n\u001B[1;32m   1428\u001B[0m     explainer_config_dict \u001B[38;5;241m=\u001B[39m explainer_config\u001B[38;5;241m.\u001B[39m_to_request_dict()\n\u001B[0;32m-> 1430\u001B[0m \u001B[38;5;28mself\u001B[39m\u001B[38;5;241m.\u001B[39msagemaker_session\u001B[38;5;241m.\u001B[39mendpoint_from_production_variants(\n\u001B[1;32m   1431\u001B[0m     name\u001B[38;5;241m=\u001B[39m\u001B[38;5;28mself\u001B[39m\u001B[38;5;241m.\u001B[39mendpoint_name,\n\u001B[1;32m   1432\u001B[0m     production_variants\u001B[38;5;241m=\u001B[39m[production_variant],\n\u001B[1;32m   1433\u001B[0m     tags\u001B[38;5;241m=\u001B[39mtags,\n\u001B[1;32m   1434\u001B[0m     kms_key\u001B[38;5;241m=\u001B[39mkms_key,\n\u001B[1;32m   1435\u001B[0m     wait\u001B[38;5;241m=\u001B[39mwait,\n\u001B[1;32m   1436\u001B[0m     data_capture_config_dict\u001B[38;5;241m=\u001B[39mdata_capture_config_dict,\n\u001B[1;32m   1437\u001B[0m     explainer_config_dict\u001B[38;5;241m=\u001B[39mexplainer_config_dict,\n\u001B[1;32m   1438\u001B[0m     async_inference_config_dict\u001B[38;5;241m=\u001B[39masync_inference_config_dict,\n\u001B[1;32m   1439\u001B[0m )\n\u001B[1;32m   1441\u001B[0m \u001B[38;5;28;01mif\u001B[39;00m \u001B[38;5;28mself\u001B[39m\u001B[38;5;241m.\u001B[39mpredictor_cls:\n\u001B[1;32m   1442\u001B[0m     predictor \u001B[38;5;241m=\u001B[39m \u001B[38;5;28mself\u001B[39m\u001B[38;5;241m.\u001B[39mpredictor_cls(\u001B[38;5;28mself\u001B[39m\u001B[38;5;241m.\u001B[39mendpoint_name, \u001B[38;5;28mself\u001B[39m\u001B[38;5;241m.\u001B[39msagemaker_session)\n",
      "File \u001B[0;32m~/miniconda3/lib/python3.12/site-packages/sagemaker/session.py:4727\u001B[0m, in \u001B[0;36mSession.endpoint_from_production_variants\u001B[0;34m(self, name, production_variants, tags, kms_key, wait, data_capture_config_dict, async_inference_config_dict, explainer_config_dict)\u001B[0m\n\u001B[1;32m   4724\u001B[0m LOGGER\u001B[38;5;241m.\u001B[39minfo(\u001B[38;5;124m\"\u001B[39m\u001B[38;5;124mCreating endpoint-config with name \u001B[39m\u001B[38;5;132;01m%s\u001B[39;00m\u001B[38;5;124m\"\u001B[39m, name)\n\u001B[1;32m   4725\u001B[0m \u001B[38;5;28mself\u001B[39m\u001B[38;5;241m.\u001B[39msagemaker_client\u001B[38;5;241m.\u001B[39mcreate_endpoint_config(\u001B[38;5;241m*\u001B[39m\u001B[38;5;241m*\u001B[39mconfig_options)\n\u001B[0;32m-> 4727\u001B[0m \u001B[38;5;28;01mreturn\u001B[39;00m \u001B[38;5;28mself\u001B[39m\u001B[38;5;241m.\u001B[39mcreate_endpoint(\n\u001B[1;32m   4728\u001B[0m     endpoint_name\u001B[38;5;241m=\u001B[39mname, config_name\u001B[38;5;241m=\u001B[39mname, tags\u001B[38;5;241m=\u001B[39mendpoint_tags, wait\u001B[38;5;241m=\u001B[39mwait\n\u001B[1;32m   4729\u001B[0m )\n",
      "File \u001B[0;32m~/miniconda3/lib/python3.12/site-packages/sagemaker/session.py:4072\u001B[0m, in \u001B[0;36mSession.create_endpoint\u001B[0;34m(self, endpoint_name, config_name, tags, wait)\u001B[0m\n\u001B[1;32m   4068\u001B[0m \u001B[38;5;28mself\u001B[39m\u001B[38;5;241m.\u001B[39msagemaker_client\u001B[38;5;241m.\u001B[39mcreate_endpoint(\n\u001B[1;32m   4069\u001B[0m     EndpointName\u001B[38;5;241m=\u001B[39mendpoint_name, EndpointConfigName\u001B[38;5;241m=\u001B[39mconfig_name, Tags\u001B[38;5;241m=\u001B[39mtags\n\u001B[1;32m   4070\u001B[0m )\n\u001B[1;32m   4071\u001B[0m \u001B[38;5;28;01mif\u001B[39;00m wait:\n\u001B[0;32m-> 4072\u001B[0m     \u001B[38;5;28mself\u001B[39m\u001B[38;5;241m.\u001B[39mwait_for_endpoint(endpoint_name)\n\u001B[1;32m   4073\u001B[0m \u001B[38;5;28;01mreturn\u001B[39;00m endpoint_name\n",
      "File \u001B[0;32m~/miniconda3/lib/python3.12/site-packages/sagemaker/session.py:4410\u001B[0m, in \u001B[0;36mSession.wait_for_endpoint\u001B[0;34m(self, endpoint, poll)\u001B[0m\n\u001B[1;32m   4396\u001B[0m \u001B[38;5;28;01mdef\u001B[39;00m \u001B[38;5;21mwait_for_endpoint\u001B[39m(\u001B[38;5;28mself\u001B[39m, endpoint, poll\u001B[38;5;241m=\u001B[39m\u001B[38;5;241m30\u001B[39m):\n\u001B[1;32m   4397\u001B[0m \u001B[38;5;250m    \u001B[39m\u001B[38;5;124;03m\"\"\"Wait for an Amazon SageMaker endpoint deployment to complete.\u001B[39;00m\n\u001B[1;32m   4398\u001B[0m \n\u001B[1;32m   4399\u001B[0m \u001B[38;5;124;03m    Args:\u001B[39;00m\n\u001B[0;32m   (...)\u001B[0m\n\u001B[1;32m   4408\u001B[0m \u001B[38;5;124;03m        dict: Return value from the ``DescribeEndpoint`` API.\u001B[39;00m\n\u001B[1;32m   4409\u001B[0m \u001B[38;5;124;03m    \"\"\"\u001B[39;00m\n\u001B[0;32m-> 4410\u001B[0m     desc \u001B[38;5;241m=\u001B[39m _wait_until(\u001B[38;5;28;01mlambda\u001B[39;00m: _deploy_done(\u001B[38;5;28mself\u001B[39m\u001B[38;5;241m.\u001B[39msagemaker_client, endpoint), poll)\n\u001B[1;32m   4411\u001B[0m     status \u001B[38;5;241m=\u001B[39m desc[\u001B[38;5;124m\"\u001B[39m\u001B[38;5;124mEndpointStatus\u001B[39m\u001B[38;5;124m\"\u001B[39m]\n\u001B[1;32m   4413\u001B[0m     \u001B[38;5;28;01mif\u001B[39;00m status \u001B[38;5;241m!=\u001B[39m \u001B[38;5;124m\"\u001B[39m\u001B[38;5;124mInService\u001B[39m\u001B[38;5;124m\"\u001B[39m:\n",
      "File \u001B[0;32m~/miniconda3/lib/python3.12/site-packages/sagemaker/session.py:6572\u001B[0m, in \u001B[0;36m_wait_until\u001B[0;34m(callable_fn, poll)\u001B[0m\n\u001B[1;32m   6570\u001B[0m \u001B[38;5;28;01mtry\u001B[39;00m:\n\u001B[1;32m   6571\u001B[0m     elapsed_time \u001B[38;5;241m+\u001B[39m\u001B[38;5;241m=\u001B[39m poll\n\u001B[0;32m-> 6572\u001B[0m     time\u001B[38;5;241m.\u001B[39msleep(poll)\n\u001B[1;32m   6573\u001B[0m     result \u001B[38;5;241m=\u001B[39m callable_fn()\n\u001B[1;32m   6574\u001B[0m \u001B[38;5;28;01mexcept\u001B[39;00m botocore\u001B[38;5;241m.\u001B[39mexceptions\u001B[38;5;241m.\u001B[39mClientError \u001B[38;5;28;01mas\u001B[39;00m err:\n\u001B[1;32m   6575\u001B[0m     \u001B[38;5;66;03m# For initial 5 mins we accept/pass AccessDeniedException.\u001B[39;00m\n\u001B[1;32m   6576\u001B[0m     \u001B[38;5;66;03m# The reason is to await tag propagation to avoid false AccessDenied claims for an\u001B[39;00m\n\u001B[1;32m   6577\u001B[0m     \u001B[38;5;66;03m# access policy based on resource tags, The caveat here is for true AccessDenied\u001B[39;00m\n\u001B[1;32m   6578\u001B[0m     \u001B[38;5;66;03m# cases the routine will fail after 5 mins\u001B[39;00m\n",
      "\u001B[0;31mKeyboardInterrupt\u001B[0m: "
     ]
    }
   ],
   "execution_count": 16
  },
  {
   "metadata": {
    "ExecuteTime": {
     "end_time": "2025-04-22T16:31:12.623580Z",
     "start_time": "2025-04-22T16:31:12.506579Z"
    }
   },
   "cell_type": "code",
   "source": "\n",
   "id": "80fb58cd6e2afe0",
   "outputs": [
    {
     "ename": "NameError",
     "evalue": "name 'real_time_predictor' is not defined",
     "output_type": "error",
     "traceback": [
      "\u001B[0;31m---------------------------------------------------------------------------\u001B[0m",
      "\u001B[0;31mNameError\u001B[0m                                 Traceback (most recent call last)",
      "Cell \u001B[0;32mIn[12], line 1\u001B[0m\n\u001B[0;32m----> 1\u001B[0m \u001B[38;5;28mprint\u001B[39m(real_time_predictor)\n",
      "\u001B[0;31mNameError\u001B[0m: name 'real_time_predictor' is not defined"
     ]
    }
   ],
   "execution_count": 12
  },
  {
   "cell_type": "code",
   "execution_count": 23,
   "id": "99838b90-ef85-4410-aa4e-8387c214b4e3",
   "metadata": {},
   "outputs": [],
   "source": ""
  },
  {
   "cell_type": "code",
   "execution_count": null,
   "id": "887c488a-f2a9-4e81-b551-6df3036ab73f",
   "metadata": {},
   "outputs": [],
   "source": []
  }
 ],
 "metadata": {
  "kernelspec": {
   "display_name": "Python 3 (ipykernel)",
   "language": "python",
   "name": "python3"
  },
  "language_info": {
   "codemirror_mode": {
    "name": "ipython",
    "version": 3
   },
   "file_extension": ".py",
   "mimetype": "text/x-python",
   "name": "python",
   "nbconvert_exporter": "python",
   "pygments_lexer": "ipython3",
   "version": "3.11.10"
  }
 },
 "nbformat": 4,
 "nbformat_minor": 5
}
