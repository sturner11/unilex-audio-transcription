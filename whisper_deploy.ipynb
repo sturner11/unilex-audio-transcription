{
 "cells": [
  {
   "cell_type": "code",
   "id": "cb39cd80-8839-4cb0-8eba-23f2b1462595",
   "metadata": {},
   "source": [
    "%pip install openai-whisper==20230918 -q\n",
    "%pip install torchaudio==2.1.0 -q\n",
    "%pip install datasets==2.16.1 -q\n",
    "%pip install sagemaker==2.184.0  -q\n",
    "%pip install librosa -q\n",
    "%pip install soundfile -q"
   ],
   "outputs": [],
   "execution_count": null
  },
  {
   "cell_type": "code",
   "id": "d7e950f4-44a8-41b4-9241-9c9ed87ef0c9",
   "metadata": {},
   "source": [
    "import json\n",
    "import torch\n",
    "import whisper\n",
    "import torchaudio\n",
    "import sagemaker\n",
    "import time\n",
    "import json\n",
    "import boto3\n",
    "import soundfile as sf\n",
    "from datasets import load_dataset\n",
    "from sagemaker.pytorch.model import PyTorchModel\n",
    "from sagemaker.serializers import DataSerializer\n",
    "from sagemaker.deserializers import JSONDeserializer"
   ],
   "outputs": [],
   "execution_count": null
  },
  {
   "metadata": {},
   "cell_type": "code",
   "source": [
    "session = boto3.Session()\n",
    "print(\"Region:\", session.region_name)"
   ],
   "id": "9004839a9aa04dc1",
   "outputs": [],
   "execution_count": null
  },
  {
   "cell_type": "code",
   "id": "c031d846-ab8a-46df-bb40-e7a85e5dd1d8",
   "metadata": {},
   "source": [
    "boto_session = boto3.Session(region_name='us-east-1')\n",
    "sess = sagemaker.Session(boto_session=boto_session)\n",
    "bucket = 'whisper-bucket-unilex-new'\n",
    "prefix = 'whisper_blog_post'\n",
    "role = \"arn:aws:iam::307946674662:role/service-role/AmazonSageMaker-ExecutionRole-20250306T120165\"\n",
    "#\n",
    "# sm_runtime = boto3.client(\"sagemaker-runtime\")"
   ],
   "outputs": [],
   "execution_count": null
  },
  {
   "cell_type": "code",
   "id": "9da3290b-f004-4d39-926b-770e79e4866b",
   "metadata": {},
   "source": [
    "model = whisper.load_model(\"base\")\n",
    "torch.save(\n",
    "    {\n",
    "        'model_state_dict': model.state_dict(),\n",
    "        'dims': model.dims.__dict__,\n",
    "    },\n",
    "    'base.pt'\n",
    ")"
   ],
   "outputs": [],
   "execution_count": null
  },
  {
   "cell_type": "code",
   "id": "bea4ff68-ad6e-4a5e-9fc4-9f9271493e24",
   "metadata": {},
   "source": [
    "!mkdir -p model\n",
    "!mv base.pt model\n",
    "!tar cvzf model.tar.gz -C model/ ."
   ],
   "outputs": [],
   "execution_count": null
  },
  {
   "cell_type": "code",
   "id": "dc7f0707-4f38-4042-b47a-8eebec6b8d44",
   "metadata": {},
   "source": [
    "model_uri = sess.upload_data('model.tar.gz', bucket=bucket, key_prefix=f\"{prefix}/pytorch/model\")\n",
    "!rm model.tar.gz\n",
    "!rm -rf model\n",
    "model_uri"
   ],
   "outputs": [],
   "execution_count": null
  },
  {
   "cell_type": "code",
   "id": "21f3ee11-3b53-41d7-8da2-4a2a06ab93ea",
   "metadata": {},
   "source": [
    "id = int(time.time())\n",
    "model_name = f'whisper-pytorch-model-{id}'\n",
    "\n",
    "image = \"763104351884.dkr.ecr.us-east-1.amazonaws.com/huggingface-pytorch-inference:2.0.0-transformers4.28.1-gpu-py310-cu118-ubuntu20.04\""
   ],
   "outputs": [],
   "execution_count": null
  },
  {
   "cell_type": "code",
   "id": "05ae41a8-b8ad-45b9-8277-358f36606c9e",
   "metadata": {},
   "source": [
    "whisper_pytorch_model = PyTorchModel(\n",
    "    model_data=model_uri,\n",
    "    image_uri=image,\n",
    "    role=role,\n",
    "    entry_point=\"inference.py\",\n",
    "    source_dir='/opt/var',\n",
    "    name=model_name,\n",
    "    env={\n",
    "        'MMS_MAX_REQUEST_SIZE': '2000000000',\n",
    "        'MMS_MAX_RESPONSE_SIZE': '2000000000',\n",
    "        'MMS_DEFAULT_RESPONSE_TIMEOUT': '900'\n",
    "    }\n",
    ")"
   ],
   "outputs": [],
   "execution_count": null
  },
  {
   "cell_type": "code",
   "id": "78942c61-677b-452d-9a05-93d9cd88519d",
   "metadata": {},
   "source": [
    "audio_serializer = DataSerializer(content_type=\"audio/x-audio\")\n",
    "deserializer = JSONDeserializer()"
   ],
   "outputs": [],
   "execution_count": null
  },
  {
   "cell_type": "code",
   "id": "693ff016-9634-4838-aaf6-36d0bd131c9b",
   "metadata": {},
   "source": [
    "%%time\n",
    "endpoint_name = f'whisper-pytorch-real-time-endpoint1'\n",
    "\n",
    "real_time_predictor = whisper_pytorch_model.deploy(\n",
    "    initial_instance_count=1,\n",
    "    instance_type=\"ml.g4dn.xlarge\",\n",
    "    endpoint_name = endpoint_name,\n",
    "    serializer=audio_serializer,\n",
    "    entry_point=\"inference.py\",\n",
    "    deserializer = deserializer,\n",
    "    region_name='us-east-1'\n",
    ")"
   ],
   "outputs": [],
   "execution_count": null
  }
 ],
 "metadata": {
  "kernelspec": {
   "display_name": "Python 3 (ipykernel)",
   "language": "python",
   "name": "python3"
  },
  "language_info": {
   "codemirror_mode": {
    "name": "ipython",
    "version": 3
   },
   "file_extension": ".py",
   "mimetype": "text/x-python",
   "name": "python",
   "nbconvert_exporter": "python",
   "pygments_lexer": "ipython3",
   "version": "3.11.10"
  }
 },
 "nbformat": 4,
 "nbformat_minor": 5
}
