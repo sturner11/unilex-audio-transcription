{
 "cells": [
  {
   "cell_type": "code",
   "id": "cb39cd80-8839-4cb0-8eba-23f2b1462595",
   "metadata": {
    "ExecuteTime": {
     "end_time": "2025-04-22T19:24:48.181473Z",
     "start_time": "2025-04-22T19:24:43.329432Z"
    }
   },
   "source": [
    "%pip install openai-whisper==20230918 -q\n",
    "%pip install torchaudio==2.1.0 -q\n",
    "%pip install datasets==2.16.1 -q\n",
    "%pip install sagemaker==2.184.0  -q\n",
    "%pip install librosa -q\n",
    "%pip install soundfile -q"
   ],
   "outputs": [
    {
     "name": "stdout",
     "output_type": "stream",
     "text": [
      "  \u001B[1;31merror\u001B[0m: \u001B[1msubprocess-exited-with-error\u001B[0m\r\n",
      "  \r\n",
      "  \u001B[31m×\u001B[0m \u001B[32mBuilding wheel for tiktoken \u001B[0m\u001B[1;32m(\u001B[0m\u001B[32mpyproject.toml\u001B[0m\u001B[1;32m)\u001B[0m did not run successfully.\r\n",
      "  \u001B[31m│\u001B[0m exit code: \u001B[1;36m1\u001B[0m\r\n",
      "  \u001B[31m╰─>\u001B[0m \u001B[31m[49 lines of output]\u001B[0m\r\n",
      "  \u001B[31m   \u001B[0m /private/var/folders/vw/_k6w_xh97_xb3bkd57dznybm0000gn/T/pip-build-env-n_q0ib97/overlay/lib/python3.12/site-packages/setuptools/config/_apply_pyprojecttoml.py:82: SetuptoolsDeprecationWarning: `project.license` as a TOML table is deprecated\r\n",
      "  \u001B[31m   \u001B[0m !!\r\n",
      "  \u001B[31m   \u001B[0m \r\n",
      "  \u001B[31m   \u001B[0m         ********************************************************************************\r\n",
      "  \u001B[31m   \u001B[0m         Please use a simple string containing a SPDX expression for `project.license`. You can also use `project.license-files`. (Both options available on setuptools>=77.0.0).\r\n",
      "  \u001B[31m   \u001B[0m \r\n",
      "  \u001B[31m   \u001B[0m         By 2026-Feb-18, you need to update your project and remove deprecated calls\r\n",
      "  \u001B[31m   \u001B[0m         or your builds will no longer be supported.\r\n",
      "  \u001B[31m   \u001B[0m \r\n",
      "  \u001B[31m   \u001B[0m         See https://packaging.python.org/en/latest/guides/writing-pyproject-toml/#license for details.\r\n",
      "  \u001B[31m   \u001B[0m         ********************************************************************************\r\n",
      "  \u001B[31m   \u001B[0m \r\n",
      "  \u001B[31m   \u001B[0m !!\r\n",
      "  \u001B[31m   \u001B[0m   corresp(dist, value, root_dir)\r\n",
      "  \u001B[31m   \u001B[0m running bdist_wheel\r\n",
      "  \u001B[31m   \u001B[0m running build\r\n",
      "  \u001B[31m   \u001B[0m running build_py\r\n",
      "  \u001B[31m   \u001B[0m creating build/lib.macosx-11.1-arm64-cpython-312/tiktoken\r\n",
      "  \u001B[31m   \u001B[0m copying tiktoken/registry.py -> build/lib.macosx-11.1-arm64-cpython-312/tiktoken\r\n",
      "  \u001B[31m   \u001B[0m copying tiktoken/__init__.py -> build/lib.macosx-11.1-arm64-cpython-312/tiktoken\r\n",
      "  \u001B[31m   \u001B[0m copying tiktoken/core.py -> build/lib.macosx-11.1-arm64-cpython-312/tiktoken\r\n",
      "  \u001B[31m   \u001B[0m copying tiktoken/model.py -> build/lib.macosx-11.1-arm64-cpython-312/tiktoken\r\n",
      "  \u001B[31m   \u001B[0m copying tiktoken/load.py -> build/lib.macosx-11.1-arm64-cpython-312/tiktoken\r\n",
      "  \u001B[31m   \u001B[0m creating build/lib.macosx-11.1-arm64-cpython-312/tiktoken_ext\r\n",
      "  \u001B[31m   \u001B[0m copying tiktoken_ext/openai_public.py -> build/lib.macosx-11.1-arm64-cpython-312/tiktoken_ext\r\n",
      "  \u001B[31m   \u001B[0m running egg_info\r\n",
      "  \u001B[31m   \u001B[0m writing tiktoken.egg-info/PKG-INFO\r\n",
      "  \u001B[31m   \u001B[0m writing dependency_links to tiktoken.egg-info/dependency_links.txt\r\n",
      "  \u001B[31m   \u001B[0m writing requirements to tiktoken.egg-info/requires.txt\r\n",
      "  \u001B[31m   \u001B[0m writing top-level names to tiktoken.egg-info/top_level.txt\r\n",
      "  \u001B[31m   \u001B[0m reading manifest file 'tiktoken.egg-info/SOURCES.txt'\r\n",
      "  \u001B[31m   \u001B[0m reading manifest template 'MANIFEST.in'\r\n",
      "  \u001B[31m   \u001B[0m warning: no files found matching 'Makefile'\r\n",
      "  \u001B[31m   \u001B[0m adding license file 'LICENSE'\r\n",
      "  \u001B[31m   \u001B[0m writing manifest file 'tiktoken.egg-info/SOURCES.txt'\r\n",
      "  \u001B[31m   \u001B[0m copying tiktoken/py.typed -> build/lib.macosx-11.1-arm64-cpython-312/tiktoken\r\n",
      "  \u001B[31m   \u001B[0m running build_ext\r\n",
      "  \u001B[31m   \u001B[0m running build_rust\r\n",
      "  \u001B[31m   \u001B[0m error: can't find Rust compiler\r\n",
      "  \u001B[31m   \u001B[0m \r\n",
      "  \u001B[31m   \u001B[0m If you are using an outdated pip version, it is possible a prebuilt wheel is available for this package but pip is not able to install from it. Installing from the wheel would avoid the need for a Rust compiler.\r\n",
      "  \u001B[31m   \u001B[0m \r\n",
      "  \u001B[31m   \u001B[0m To update pip, run:\r\n",
      "  \u001B[31m   \u001B[0m \r\n",
      "  \u001B[31m   \u001B[0m     pip install --upgrade pip\r\n",
      "  \u001B[31m   \u001B[0m \r\n",
      "  \u001B[31m   \u001B[0m and then retry package installation.\r\n",
      "  \u001B[31m   \u001B[0m \r\n",
      "  \u001B[31m   \u001B[0m If you did intend to build this package from source, try installing a Rust compiler from your system package manager and ensure it is on the PATH during installation. Alternatively, rustup (available at https://rustup.rs) is the recommended way to download and update the Rust compiler toolchain.\r\n",
      "  \u001B[31m   \u001B[0m \u001B[31m[end of output]\u001B[0m\r\n",
      "  \r\n",
      "  \u001B[1;35mnote\u001B[0m: This error originates from a subprocess, and is likely not a problem with pip.\r\n",
      "\u001B[31m  ERROR: Failed building wheel for tiktoken\u001B[0m\u001B[31m\r\n",
      "\u001B[0m\u001B[31mERROR: ERROR: Failed to build installable wheels for some pyproject.toml based projects (tiktoken)\u001B[0m\u001B[31m\r\n",
      "\u001B[0mNote: you may need to restart the kernel to use updated packages.\n",
      "\u001B[31mERROR: Could not find a version that satisfies the requirement torchaudio==2.1.0 (from versions: 2.2.0, 2.2.1, 2.2.2, 2.3.0, 2.3.1, 2.4.0, 2.4.1, 2.5.0, 2.5.1, 2.6.0)\u001B[0m\u001B[31m\r\n",
      "\u001B[0m\u001B[31mERROR: No matching distribution found for torchaudio==2.1.0\u001B[0m\u001B[31m\r\n",
      "\u001B[0mNote: you may need to restart the kernel to use updated packages.\n",
      "\u001B[31mERROR: pip's dependency resolver does not currently take into account all the packages that are installed. This behaviour is the source of the following dependency conflicts.\r\n",
      "pathos 0.3.2 requires dill>=0.3.8, but you have dill 0.3.7 which is incompatible.\r\n",
      "pathos 0.3.2 requires multiprocess>=0.70.16, but you have multiprocess 0.70.15 which is incompatible.\u001B[0m\u001B[31m\r\n",
      "\u001B[0mNote: you may need to restart the kernel to use updated packages.\n",
      "Requirement already satisfied: sagemaker in /Users/samuelturner/miniconda3/lib/python3.12/site-packages (2.184.0)\r\n",
      "Requirement already satisfied: attrs<24,>=23.1.0 in /Users/samuelturner/miniconda3/lib/python3.12/site-packages (from sagemaker) (23.2.0)\r\n",
      "Requirement already satisfied: boto3<2.0,>=1.26.131 in /Users/samuelturner/miniconda3/lib/python3.12/site-packages (from sagemaker) (1.37.33)\r\n",
      "Requirement already satisfied: cloudpickle==2.2.1 in /Users/samuelturner/miniconda3/lib/python3.12/site-packages (from sagemaker) (2.2.1)\r\n",
      "Requirement already satisfied: google-pasta in /Users/samuelturner/miniconda3/lib/python3.12/site-packages (from sagemaker) (0.2.0)\r\n",
      "Requirement already satisfied: numpy<2.0,>=1.9.0 in /Users/samuelturner/miniconda3/lib/python3.12/site-packages (from sagemaker) (1.26.4)\r\n",
      "Requirement already satisfied: protobuf<5.0,>=3.12 in /Users/samuelturner/miniconda3/lib/python3.12/site-packages (from sagemaker) (4.25.6)\r\n",
      "Requirement already satisfied: smdebug-rulesconfig==1.0.1 in /Users/samuelturner/miniconda3/lib/python3.12/site-packages (from sagemaker) (1.0.1)\r\n",
      "Requirement already satisfied: importlib-metadata<7.0,>=1.4.0 in /Users/samuelturner/miniconda3/lib/python3.12/site-packages (from sagemaker) (6.11.0)\r\n",
      "Requirement already satisfied: packaging>=20.0 in /Users/samuelturner/miniconda3/lib/python3.12/site-packages (from sagemaker) (24.1)\r\n",
      "Requirement already satisfied: pandas in /Users/samuelturner/miniconda3/lib/python3.12/site-packages (from sagemaker) (2.2.3)\r\n",
      "Requirement already satisfied: pathos in /Users/samuelturner/miniconda3/lib/python3.12/site-packages (from sagemaker) (0.3.2)\r\n",
      "Requirement already satisfied: schema in /Users/samuelturner/miniconda3/lib/python3.12/site-packages (from sagemaker) (0.7.7)\r\n",
      "Requirement already satisfied: PyYAML~=6.0 in /Users/samuelturner/miniconda3/lib/python3.12/site-packages (from sagemaker) (6.0.2)\r\n",
      "Requirement already satisfied: jsonschema in /Users/samuelturner/miniconda3/lib/python3.12/site-packages (from sagemaker) (4.23.0)\r\n",
      "Requirement already satisfied: platformdirs in /Users/samuelturner/miniconda3/lib/python3.12/site-packages (from sagemaker) (4.3.7)\r\n",
      "Requirement already satisfied: tblib==1.7.0 in /Users/samuelturner/miniconda3/lib/python3.12/site-packages (from sagemaker) (1.7.0)\r\n",
      "Requirement already satisfied: botocore<1.38.0,>=1.37.33 in /Users/samuelturner/miniconda3/lib/python3.12/site-packages (from boto3<2.0,>=1.26.131->sagemaker) (1.37.33)\r\n",
      "Requirement already satisfied: jmespath<2.0.0,>=0.7.1 in /Users/samuelturner/miniconda3/lib/python3.12/site-packages (from boto3<2.0,>=1.26.131->sagemaker) (1.0.1)\r\n",
      "Requirement already satisfied: s3transfer<0.12.0,>=0.11.0 in /Users/samuelturner/miniconda3/lib/python3.12/site-packages (from boto3<2.0,>=1.26.131->sagemaker) (0.11.4)\r\n",
      "Requirement already satisfied: zipp>=0.5 in /Users/samuelturner/miniconda3/lib/python3.12/site-packages (from importlib-metadata<7.0,>=1.4.0->sagemaker) (3.21.0)\r\n",
      "Requirement already satisfied: six in /Users/samuelturner/miniconda3/lib/python3.12/site-packages (from google-pasta->sagemaker) (1.17.0)\r\n",
      "Requirement already satisfied: jsonschema-specifications>=2023.03.6 in /Users/samuelturner/miniconda3/lib/python3.12/site-packages (from jsonschema->sagemaker) (2023.7.1)\r\n",
      "Requirement already satisfied: referencing>=0.28.4 in /Users/samuelturner/miniconda3/lib/python3.12/site-packages (from jsonschema->sagemaker) (0.30.2)\r\n",
      "Requirement already satisfied: rpds-py>=0.7.1 in /Users/samuelturner/miniconda3/lib/python3.12/site-packages (from jsonschema->sagemaker) (0.22.3)\r\n",
      "Requirement already satisfied: python-dateutil>=2.8.2 in /Users/samuelturner/miniconda3/lib/python3.12/site-packages (from pandas->sagemaker) (2.9.0.post0)\r\n",
      "Requirement already satisfied: pytz>=2020.1 in /Users/samuelturner/miniconda3/lib/python3.12/site-packages (from pandas->sagemaker) (2024.1)\r\n",
      "Requirement already satisfied: tzdata>=2022.7 in /Users/samuelturner/miniconda3/lib/python3.12/site-packages (from pandas->sagemaker) (2023.3)\r\n",
      "Requirement already satisfied: ppft>=1.7.6.8 in /Users/samuelturner/miniconda3/lib/python3.12/site-packages (from pathos->sagemaker) (1.7.6.9)\r\n",
      "Collecting dill>=0.3.8 (from pathos->sagemaker)\r\n",
      "  Using cached dill-0.4.0-py3-none-any.whl.metadata (10 kB)\r\n",
      "Requirement already satisfied: pox>=0.3.4 in /Users/samuelturner/miniconda3/lib/python3.12/site-packages (from pathos->sagemaker) (0.3.5)\r\n",
      "Collecting multiprocess>=0.70.16 (from pathos->sagemaker)\r\n",
      "  Using cached multiprocess-0.70.18-py312-none-any.whl.metadata (7.5 kB)\r\n",
      "Requirement already satisfied: urllib3!=2.2.0,<3,>=1.25.4 in /Users/samuelturner/miniconda3/lib/python3.12/site-packages (from botocore<1.38.0,>=1.37.33->boto3<2.0,>=1.26.131->sagemaker) (2.2.2)\r\n",
      "Using cached dill-0.4.0-py3-none-any.whl (119 kB)\r\n",
      "Using cached multiprocess-0.70.18-py312-none-any.whl (150 kB)\r\n",
      "Installing collected packages: dill, multiprocess\r\n",
      "  Attempting uninstall: dill\r\n",
      "    Found existing installation: dill 0.3.7\r\n",
      "    Uninstalling dill-0.3.7:\r\n",
      "      Successfully uninstalled dill-0.3.7\r\n",
      "  Attempting uninstall: multiprocess\r\n",
      "    Found existing installation: multiprocess 0.70.15\r\n",
      "    Uninstalling multiprocess-0.70.15:\r\n",
      "      Successfully uninstalled multiprocess-0.70.15\r\n",
      "\u001B[31mERROR: pip's dependency resolver does not currently take into account all the packages that are installed. This behaviour is the source of the following dependency conflicts.\r\n",
      "datasets 2.16.1 requires dill<0.3.8,>=0.3.0, but you have dill 0.4.0 which is incompatible.\u001B[0m\u001B[31m\r\n",
      "\u001B[0mSuccessfully installed dill-0.4.0 multiprocess-0.70.18\r\n",
      "Note: you may need to restart the kernel to use updated packages.\n",
      "Note: you may need to restart the kernel to use updated packages.\n",
      "Note: you may need to restart the kernel to use updated packages.\n"
     ]
    }
   ],
   "execution_count": 12
  },
  {
   "cell_type": "code",
   "id": "d7e950f4-44a8-41b4-9241-9c9ed87ef0c9",
   "metadata": {
    "ExecuteTime": {
     "end_time": "2025-04-22T19:23:13.449880Z",
     "start_time": "2025-04-22T19:23:11.633950Z"
    }
   },
   "source": [
    "import json\n",
    "import torch\n",
    "import whisper\n",
    "import torchaudio\n",
    "import sagemaker\n",
    "import time\n",
    "import json\n",
    "import boto3\n",
    "import soundfile as sf\n",
    "from datasets import load_dataset\n",
    "from sagemaker.pytorch.model import PyTorchModel\n",
    "from sagemaker.serializers import DataSerializer\n",
    "from sagemaker.deserializers import JSONDeserializer"
   ],
   "outputs": [
    {
     "name": "stdout",
     "output_type": "stream",
     "text": [
      "sagemaker.config INFO - Not applying SDK defaults from location: /Library/Application Support/sagemaker/config.yaml\n",
      "sagemaker.config INFO - Not applying SDK defaults from location: /Users/samuelturner/Library/Application Support/sagemaker/config.yaml\n"
     ]
    }
   ],
   "execution_count": 2
  },
  {
   "metadata": {
    "ExecuteTime": {
     "end_time": "2025-04-22T19:23:13.503307Z",
     "start_time": "2025-04-22T19:23:13.498531Z"
    }
   },
   "cell_type": "code",
   "source": [
    "session = boto3.Session()\n",
    "print(\"Region:\", session.region_name)"
   ],
   "id": "9004839a9aa04dc1",
   "outputs": [
    {
     "name": "stdout",
     "output_type": "stream",
     "text": [
      "Region: us-east-1\n"
     ]
    }
   ],
   "execution_count": 3
  },
  {
   "cell_type": "code",
   "id": "c031d846-ab8a-46df-bb40-e7a85e5dd1d8",
   "metadata": {
    "ExecuteTime": {
     "end_time": "2025-04-22T19:23:13.631756Z",
     "start_time": "2025-04-22T19:23:13.506872Z"
    }
   },
   "source": [
    "boto_session = boto3.Session(region_name='us-east-1')\n",
    "sess = sagemaker.Session(boto_session=boto_session)\n",
    "bucket = 'whisper-bucket-unilex-new'\n",
    "prefix = 'whisper_blog_post'\n",
    "role = \"arn:aws:iam::307946674662:role/service-role/AmazonSageMaker-ExecutionRole-20250306T120165\"\n",
    "#\n",
    "# sm_runtime = boto3.client(\"sagemaker-runtime\")"
   ],
   "outputs": [
    {
     "name": "stdout",
     "output_type": "stream",
     "text": [
      "sagemaker.config INFO - Not applying SDK defaults from location: /Library/Application Support/sagemaker/config.yaml\n",
      "sagemaker.config INFO - Not applying SDK defaults from location: /Users/samuelturner/Library/Application Support/sagemaker/config.yaml\n"
     ]
    }
   ],
   "execution_count": 4
  },
  {
   "cell_type": "code",
   "id": "9da3290b-f004-4d39-926b-770e79e4866b",
   "metadata": {
    "ExecuteTime": {
     "end_time": "2025-04-22T19:23:14.484560Z",
     "start_time": "2025-04-22T19:23:13.635511Z"
    }
   },
   "source": [
    "model = whisper.load_model(\"base\")\n",
    "torch.save(\n",
    "    {\n",
    "        'model_state_dict': model.state_dict(),\n",
    "        'dims': model.dims.__dict__,\n",
    "    },\n",
    "    'base.pt'\n",
    ")"
   ],
   "outputs": [],
   "execution_count": 5
  },
  {
   "cell_type": "code",
   "id": "bea4ff68-ad6e-4a5e-9fc4-9f9271493e24",
   "metadata": {
    "ExecuteTime": {
     "end_time": "2025-04-22T19:23:40.890776Z",
     "start_time": "2025-04-22T19:23:14.488640Z"
    }
   },
   "source": [
    "!mkdir -p model\n",
    "!mv base.pt model\n",
    "!tar cvzf model.tar.gz -C model/ ."
   ],
   "outputs": [
    {
     "name": "stdout",
     "output_type": "stream",
     "text": [
      "a .\r\n",
      "a ./base.pt\r\n"
     ]
    }
   ],
   "execution_count": 6
  },
  {
   "cell_type": "code",
   "id": "dc7f0707-4f38-4042-b47a-8eebec6b8d44",
   "metadata": {
    "ExecuteTime": {
     "end_time": "2025-04-22T19:23:51.974676Z",
     "start_time": "2025-04-22T19:23:40.897421Z"
    }
   },
   "source": [
    "model_uri = sess.upload_data('model.tar.gz', bucket=bucket, key_prefix=f\"{prefix}/pytorch/model\")\n",
    "!rm model.tar.gz\n",
    "!rm -rf model\n",
    "model_uri"
   ],
   "outputs": [
    {
     "data": {
      "text/plain": [
       "'s3://whisper-bucket-unilex-new/whisper_blog_post/pytorch/model/model.tar.gz'"
      ]
     },
     "execution_count": 7,
     "metadata": {},
     "output_type": "execute_result"
    }
   ],
   "execution_count": 7
  },
  {
   "cell_type": "code",
   "id": "21f3ee11-3b53-41d7-8da2-4a2a06ab93ea",
   "metadata": {
    "ExecuteTime": {
     "end_time": "2025-04-22T19:23:51.982941Z",
     "start_time": "2025-04-22T19:23:51.981005Z"
    }
   },
   "source": [
    "id = int(time.time())\n",
    "model_name = f'whisper-pytorch-model-{id}'\n",
    "\n",
    "image = \"763104351884.dkr.ecr.us-east-1.amazonaws.com/huggingface-pytorch-inference:2.0.0-transformers4.28.1-gpu-py310-cu118-ubuntu20.04\""
   ],
   "outputs": [],
   "execution_count": 8
  },
  {
   "metadata": {},
   "cell_type": "code",
   "outputs": [],
   "execution_count": null,
   "source": "",
   "id": "790a35486d0d263"
  },
  {
   "cell_type": "code",
   "id": "05ae41a8-b8ad-45b9-8277-358f36606c9e",
   "metadata": {},
   "source": [
    "whisper_pytorch_model = PyTorchModel(\n",
    "    model_data=model_uri,\n",
    "    image_uri=image,\n",
    "    role=role,\n",
    "    entry_point=\"inference.py\",\n",
    "    source_dir='/opt/var/code',\n",
    "    name=model_name,\n",
    "    env={\n",
    "        'MMS_MAX_REQUEST_SIZE': '2000000000',\n",
    "        'MMS_MAX_RESPONSE_SIZE': '2000000000',\n",
    "        'MMS_DEFAULT_RESPONSE_TIMEOUT': '900'\n",
    "    }\n",
    ")"
   ],
   "outputs": [],
   "execution_count": null
  },
  {
   "cell_type": "code",
   "id": "78942c61-677b-452d-9a05-93d9cd88519d",
   "metadata": {},
   "source": [
    "audio_serializer = DataSerializer(content_type=\"audio/x-audio\")\n",
    "deserializer = JSONDeserializer()"
   ],
   "outputs": [],
   "execution_count": null
  },
  {
   "cell_type": "code",
   "id": "693ff016-9634-4838-aaf6-36d0bd131c9b",
   "metadata": {},
   "source": [
    "%%time\n",
    "endpoint_name = f'whisper-pytorch-real-time-endpoint1'\n",
    "\n",
    "real_time_predictor = whisper_pytorch_model.deploy(\n",
    "    initial_instance_count=1,\n",
    "    instance_type=\"ml.g4dn.xlarge\",\n",
    "    endpoint_name = endpoint_name,\n",
    "    serializer=audio_serializer,\n",
    "    entry_point=\"inference.py\",\n",
    "    deserializer = deserializer,\n",
    "    region_name='us-east-1'\n",
    ")"
   ],
   "outputs": [],
   "execution_count": null
  }
 ],
 "metadata": {
  "kernelspec": {
   "display_name": "Python 3 (ipykernel)",
   "language": "python",
   "name": "python3"
  },
  "language_info": {
   "codemirror_mode": {
    "name": "ipython",
    "version": 3
   },
   "file_extension": ".py",
   "mimetype": "text/x-python",
   "name": "python",
   "nbconvert_exporter": "python",
   "pygments_lexer": "ipython3",
   "version": "3.11.10"
  }
 },
 "nbformat": 4,
 "nbformat_minor": 5
}
